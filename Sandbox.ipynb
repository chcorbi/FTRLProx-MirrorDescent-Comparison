{
 "cells": [
  {
   "cell_type": "markdown",
   "metadata": {},
   "source": [
    "# Follow the Regularized Leader and Mirror Descent\n",
    "Charles, Khaled, François, Camille, Nicolas"
   ]
  },
  {
   "cell_type": "markdown",
   "metadata": {
    "collapsed": false
   },
   "source": [
    "## 1.Load Datasets"
   ]
  },
  {
   "cell_type": "markdown",
   "metadata": {},
   "source": [
    "As those datasets are heavy, choose only one to load"
   ]
  },
  {
   "cell_type": "code",
   "execution_count": 1,
   "metadata": {
    "collapsed": false
   },
   "outputs": [],
   "source": [
    "from sklearn.datasets import load_svmlight_file\n",
    "\n",
    "def loading_dataset(filename):\n",
    "    data = load_svmlight_file(filename)\n",
    "    return data[0], data[1]"
   ]
  },
  {
   "cell_type": "code",
   "execution_count": 2,
   "metadata": {
    "collapsed": false
   },
   "outputs": [],
   "source": [
    "X, y = loading_dataset(\"Datasets/news20.binary\")"
   ]
  },
  {
   "cell_type": "code",
   "execution_count": 22,
   "metadata": {
    "collapsed": false
   },
   "outputs": [
    {
     "data": {
      "text/plain": [
       "<19996x1355191 sparse matrix of type '<class 'numpy.float64'>'\n",
       "\twith 9097916 stored elements in Compressed Sparse Row format>"
      ]
     },
     "execution_count": 22,
     "metadata": {},
     "output_type": "execute_result"
    }
   ],
   "source": [
    "X"
   ]
  },
  {
   "cell_type": "code",
   "execution_count": 4,
   "metadata": {
    "collapsed": false
   },
   "outputs": [
    {
     "name": "stdout",
     "output_type": "stream",
     "text": [
      "y: DescribeResult(nobs=19996, minmax=(-1.0, 1.0), mean=0.00010002000400080016, variance=1.0000500024986243, skewness=-0.00020004000900252175, kurtosis=-1.9999999599839953)\n"
     ]
    }
   ],
   "source": [
    "from scipy import stats\n",
    "print ('y:', stats.describe(y))"
   ]
  },
  {
   "cell_type": "markdown",
   "metadata": {},
   "source": [
    "## 2. Useful tools"
   ]
  },
  {
   "cell_type": "code",
   "execution_count": 27,
   "metadata": {
    "collapsed": true
   },
   "outputs": [],
   "source": [
    "import numpy as np\n",
    "from sklearn.base import BaseEstimator\n",
    "from sklearn.metrics import log_loss\n",
    "from sklearn.metrics import roc_auc_score"
   ]
  },
  {
   "cell_type": "code",
   "execution_count": 12,
   "metadata": {
    "collapsed": false
   },
   "outputs": [],
   "source": [
    "def nnz_fraction(X):\n",
    "    ''' Compute sparsity fraction in a vector '''\n",
    "    return X.nnz/X.shape[1]"
   ]
  },
  {
   "cell_type": "code",
   "execution_count": 13,
   "metadata": {
    "collapsed": true
   },
   "outputs": [],
   "source": [
    "def sigmoid(x):\n",
    "    ''' Sigmoid function'''\n",
    "    return 1./ (1 + np.exp(-x))"
   ]
  },
  {
   "cell_type": "code",
   "execution_count": null,
   "metadata": {
    "collapsed": true
   },
   "outputs": [],
   "source": []
  },
  {
   "cell_type": "markdown",
   "metadata": {},
   "source": [
    "## 3. Regularized Dual Averaging"
   ]
  },
  {
   "cell_type": "code",
   "execution_count": null,
   "metadata": {
    "collapsed": true
   },
   "outputs": [],
   "source": [
    "class RDA (BaseEstimator):\n",
    "    '''\n",
    "    Regularized Dual Averaging\n",
    "    '''\n",
    "    \n",
    "    def __init__(self):\n",
    "        pass\n",
    "    \n",
    "    def fit(self):\n",
    "        pass\n",
    "    \n",
    "    def predict(self):\n",
    "        pass"
   ]
  },
  {
   "cell_type": "code",
   "execution_count": null,
   "metadata": {
    "collapsed": true
   },
   "outputs": [],
   "source": []
  },
  {
   "cell_type": "markdown",
   "metadata": {},
   "source": [
    "## 4. FOBOS composite mirror descent"
   ]
  },
  {
   "cell_type": "code",
   "execution_count": null,
   "metadata": {
    "collapsed": true
   },
   "outputs": [],
   "source": [
    "class FOBOS (BaseEstimator):\n",
    "    '''\n",
    "    FOBOS composite mirror descent\n",
    "    '''\n",
    "    \n",
    "    def __init__(self):\n",
    "        pass\n",
    "    \n",
    "    def fit(self):\n",
    "        pass\n",
    "    \n",
    "    def predict(self):\n",
    "        pass"
   ]
  },
  {
   "cell_type": "code",
   "execution_count": null,
   "metadata": {
    "collapsed": true
   },
   "outputs": [],
   "source": []
  },
  {
   "cell_type": "markdown",
   "metadata": {},
   "source": [
    "## 5. Follow-The-Regularized-Leader Proximal"
   ]
  },
  {
   "cell_type": "code",
   "execution_count": null,
   "metadata": {
    "collapsed": true
   },
   "outputs": [],
   "source": [
    "class FTRLP (BaseEstimator):\n",
    "    '''\n",
    "    Follow The Regularied Leader Proximal\n",
    "    minimizes iteratively with an adaptive combination of L2 and L1 norms.\n",
    "    '''\n",
    "    \n",
    "    def __init__(self, alpha, beta, lbda1, lbda2):\n",
    "        # Learning rate's proportionality constant.\n",
    "        self.alpha = alpha\n",
    "        # Learning rate parameter.\n",
    "        self.beta = beta\n",
    "        # L1 regularization parameter.\n",
    "        self.lbda1 = lbda1\n",
    "        # L2 regularization parameter.\n",
    "        self.lbda2 = lbda2\n",
    "        \n",
    "        #Initialize weights parameters\n",
    "        self.z = None\n",
    "        self.n = None\n",
    "\n",
    "    def fit(self):\n",
    "        for t in range(T):\n",
    "            for i in X[idx].nonzero()[1]:\n",
    "                if self.z[i] <= self.l1:\n",
    "                    w[i] = 0\n",
    "                else:\n",
    "                    sign = 1. if self.z[i] >= 0 else -1.\n",
    "                    w[i] = - (self.z[i] - sign * self.l1) / ((self.beta + sqrt(self.n[i])) / self.alpha + self.l2)\n",
    "        \n",
    "    def predict(self):\n",
    "        pass"
   ]
  },
  {
   "cell_type": "code",
   "execution_count": null,
   "metadata": {
    "collapsed": true
   },
   "outputs": [],
   "source": []
  }
 ],
 "metadata": {
  "anaconda-cloud": {},
  "kernelspec": {
   "display_name": "Python [conda root]",
   "language": "python",
   "name": "conda-root-py"
  },
  "language_info": {
   "codemirror_mode": {
    "name": "ipython",
    "version": 3
   },
   "file_extension": ".py",
   "mimetype": "text/x-python",
   "name": "python",
   "nbconvert_exporter": "python",
   "pygments_lexer": "ipython3",
   "version": "3.5.2"
  }
 },
 "nbformat": 4,
 "nbformat_minor": 2
}
