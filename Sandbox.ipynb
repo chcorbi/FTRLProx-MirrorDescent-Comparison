{
 "cells": [
  {
   "cell_type": "markdown",
   "metadata": {},
   "source": [
    "# Follow the Regularized Leader and Mirror Descent\n",
    "Charles, Khaled, François, Camille, Nicolas"
   ]
  },
  {
   "cell_type": "markdown",
   "metadata": {
    "collapsed": false
   },
   "source": [
    "## 1.Load Datasets"
   ]
  },
  {
   "cell_type": "markdown",
   "metadata": {},
   "source": [
    "As those datasets are heavy, choose only one to load"
   ]
  },
  {
   "cell_type": "code",
   "execution_count": null,
   "metadata": {
    "collapsed": false
   },
   "outputs": [],
   "source": [
    "from sklearn.datasets import load_svmlight_file\n",
    "\n",
    "def loading_dataset(filename):\n",
    "    data = load_svmlight_file(filename)\n",
    "    return data[0], data[1]"
   ]
  },
  {
   "cell_type": "code",
   "execution_count": null,
   "metadata": {
    "collapsed": false
   },
   "outputs": [],
   "source": [
    "X, y = loading_dataset(\"Datasets/news20.binary\")"
   ]
  },
  {
   "cell_type": "code",
   "execution_count": null,
   "metadata": {
    "collapsed": false
   },
   "outputs": [],
   "source": [
    "X"
   ]
  },
  {
   "cell_type": "code",
   "execution_count": null,
   "metadata": {
    "collapsed": false
   },
   "outputs": [],
   "source": [
    "from scipy import stats\n",
    "print ('y:', stats.describe(y))"
   ]
  },
  {
   "cell_type": "markdown",
   "metadata": {},
   "source": [
    "## 2. Useful tools"
   ]
  },
  {
   "cell_type": "code",
   "execution_count": null,
   "metadata": {
    "collapsed": true
   },
   "outputs": [],
   "source": [
    "import numpy as np\n",
    "from sklearn.base import BaseEstimator\n",
    "from sklearn.metrics import log_loss\n",
    "from sklearn.metrics import roc_auc_score"
   ]
  },
  {
   "cell_type": "code",
   "execution_count": null,
   "metadata": {
    "collapsed": false
   },
   "outputs": [],
   "source": [
    "def nnz_fraction(X):\n",
    "    ''' Compute sparsity fraction in a vector '''\n",
    "    return X.nnz/X.shape[1]"
   ]
  },
  {
   "cell_type": "code",
   "execution_count": null,
   "metadata": {
    "collapsed": true
   },
   "outputs": [],
   "source": [
    "def sigmoid(x):\n",
    "    ''' Sigmoid function'''\n",
    "    return 1./ (1 + np.exp(-x))"
   ]
  },
  {
   "cell_type": "code",
   "execution_count": null,
   "metadata": {
    "collapsed": true
   },
   "outputs": [],
   "source": []
  },
  {
   "cell_type": "markdown",
   "metadata": {},
   "source": [
    "## 3. Regularized Dual Averaging"
   ]
  },
  {
   "cell_type": "code",
   "execution_count": null,
   "metadata": {
    "collapsed": true
   },
   "outputs": [],
   "source": [
    "class RDA (BaseEstimator):\n",
    "    '''\n",
    "    Regularized Dual Averaging\n",
    "    '''\n",
    "    \n",
    "    def __init__(self):\n",
    "        pass\n",
    "    \n",
    "    def fit(self):\n",
    "        pass\n",
    "    \n",
    "    def predict(self):\n",
    "        pass"
   ]
  },
  {
   "cell_type": "code",
   "execution_count": null,
   "metadata": {
    "collapsed": true
   },
   "outputs": [],
   "source": []
  },
  {
   "cell_type": "markdown",
   "metadata": {},
   "source": [
    "## 4. FOBOS composite mirror descent"
   ]
  },
  {
   "cell_type": "code",
   "execution_count": null,
   "metadata": {
    "collapsed": true
   },
   "outputs": [],
   "source": [
    "class FOBOS (BaseEstimator):\n",
    "    '''\n",
    "    FOBOS composite mirror descent\n",
    "    '''\n",
    "    \n",
    "    def __init__(self):\n",
    "        pass\n",
    "    \n",
    "    def fit(self):\n",
    "        pass\n",
    "    \n",
    "    def predict(self):\n",
    "        pass"
   ]
  },
  {
   "cell_type": "code",
   "execution_count": null,
   "metadata": {
    "collapsed": true
   },
   "outputs": [],
   "source": []
  },
  {
   "cell_type": "markdown",
   "metadata": {},
   "source": [
    "## 5. Follow-The-Regularized-Leader Proximal"
   ]
  },
  {
   "cell_type": "code",
   "execution_count": null,
   "metadata": {
    "collapsed": true
   },
   "outputs": [],
   "source": [
    "class FTRLP (BaseEstimator):\n",
    "    '''\n",
    "    Follow The Regularied Leader Proximal\n",
    "    minimizes iteratively with an adaptive combination of L2 and L1 norms.\n",
    "    '''\n",
    "    \n",
    "    def __init__(self, alpha, beta, lbda1, lbda2):\n",
    "        # Learning rate's proportionality constant.\n",
    "        self.alpha = alpha\n",
    "        # Learning rate parameter.\n",
    "        self.beta = beta\n",
    "        # L1 regularization parameter.\n",
    "        self.lbda1 = lbda1\n",
    "        # L2 regularization parameter.\n",
    "        self.lbda2 = lbda2\n",
    "        \n",
    "        #Initialize weights parameters\n",
    "        self.z = None\n",
    "        self.n = None\n",
    "\n",
    "    def fit(self):\n",
    "        for t in range(T):\n",
    "            for i in X[idx].nonzero()[1]:\n",
    "                if self.z[i] <= self.l1:\n",
    "                    w[i] = 0\n",
    "                else:\n",
    "                    sign = 1. if self.z[i] >= 0 else -1.\n",
    "                    w[i] = - (self.z[i] - sign * self.l1) / ((self.beta + sqrt(self.n[i])) / self.alpha + self.l2)\n",
    "        \n",
    "    def predict(self):\n",
    "        pass"
   ]
  },
  {
   "cell_type": "code",
   "execution_count": null,
   "metadata": {
    "collapsed": true
   },
   "outputs": [],
   "source": []
  },
  {
   "cell_type": "markdown",
   "metadata": {},
   "source": [
    "## Tentatives d'implémentation..."
   ]
  },
  {
   "cell_type": "code",
   "execution_count": null,
   "metadata": {
    "collapsed": true
   },
   "outputs": [],
   "source": [
    "class OnlineSolver():\n",
    "    def __init__(self):\n",
    "        pass\n",
    "    \n",
    "    def iterate(self):\n",
    "        pass"
   ]
  },
  {
   "cell_type": "code",
   "execution_count": null,
   "metadata": {
    "collapsed": true
   },
   "outputs": [],
   "source": [
    "import numpy as np\n",
    "from scipy.optimize import fmin_l_bfgs_b\n",
    "from scipy.sparse import csr_matrix"
   ]
  },
  {
   "cell_type": "code",
   "execution_count": null,
   "metadata": {
    "collapsed": true
   },
   "outputs": [],
   "source": [
    "class RDASolver(OnlineSolver):\n",
    "    def __init__(self, w_dim, psi, aux, betas):\n",
    "        \"\"\"\n",
    "        Args:\n",
    "            w_dim (int): the dimension of the vector on which we want to minimize a function\n",
    "            psi (func): penalization function (input: vector of shape (w_dim, ), output: float)\n",
    "            aux (func): auxiliary function\n",
    "            betas (iterator): non-negative non-decreasing series of float numbers\n",
    "        \"\"\"\n",
    "        self._t = 1\n",
    "        self._gBar = csr_matrix((1, w_dim))\n",
    "        self.psi = psi\n",
    "        self.aux = aux\n",
    "        self.betas = betas\n",
    "        w, _, _ = fmin_l_bfgs_b(self.aux, np.zeros(w_dim), approx_grad=True)\n",
    "        self.w = csr_matrix(w)\n",
    "    \n",
    "    def iterate(self, ft, gt=None):\n",
    "        if gt is None:\n",
    "            raise NotImplementedError(\"Should compute a subgradient of the loss function at time t\")\n",
    "            \n",
    "        self._gBar = (self._t - 1) / self._t * self._gBar + 1 / self._t * gt\n",
    "        w_, _, _ = fmin_l_bfgs_b(\n",
    "            lambda w: (np.dot(self._gBar, w) + self.psi(w) + next(self.betas) / self._t * self.aux(w)), \n",
    "            self.w,\n",
    "            approx_grad=True\n",
    "        )\n",
    "        self.w = csr_matrix(w_)\n",
    "        self._t += 1\n",
    "        return self.w\n",
    "    \n",
    "    def status(self):\n",
    "        data = {\"t\": self._t, \"w\": self.w, \"gBar\": self._gBar}\n",
    "        return data"
   ]
  },
  {
   "cell_type": "code",
   "execution_count": null,
   "metadata": {
    "collapsed": true
   },
   "outputs": [],
   "source": [
    "class IterSqrt():\n",
    "    \"\"\"This iterator returns the series of the square roots of natural integers (from 1).\"\"\"\n",
    "    def __init__(self):\n",
    "        self.t = 0\n",
    "        \n",
    "    def __iter__(self):\n",
    "        return self\n",
    "    \n",
    "    def __next__(self):\n",
    "        self.t += 1\n",
    "        return np.sqrt(self.t)"
   ]
  },
  {
   "cell_type": "code",
   "execution_count": null,
   "metadata": {
    "collapsed": true
   },
   "outputs": [],
   "source": [
    "regL1 = lambda lbda: (lambda x: lbda * np.linalg.norm(x, ord=1))  # usage: reg = lambda(1.0) <-- function of x"
   ]
  },
  {
   "cell_type": "code",
   "execution_count": null,
   "metadata": {
    "collapsed": false
   },
   "outputs": [],
   "source": [
    "regL2 = lambda gamma: (lambda x: 1 / 2 * gamma * np.linalg.norm(x))"
   ]
  },
  {
   "cell_type": "code",
   "execution_count": null,
   "metadata": {
    "collapsed": true
   },
   "outputs": [],
   "source": [
    "def logloss(theta, x, y):\n",
    "    return np.log(1 + np.exp(- y * theta.dot(x)))"
   ]
  },
  {
   "cell_type": "code",
   "execution_count": null,
   "metadata": {
    "collapsed": true
   },
   "outputs": [],
   "source": []
  },
  {
   "cell_type": "code",
   "execution_count": null,
   "metadata": {
    "collapsed": true
   },
   "outputs": [],
   "source": [
    "X, y = loading_dataset(\"Datasets/rcv1_train.binary\")"
   ]
  },
  {
   "cell_type": "code",
   "execution_count": null,
   "metadata": {
    "collapsed": false
   },
   "outputs": [],
   "source": [
    "X.shape"
   ]
  },
  {
   "cell_type": "code",
   "execution_count": null,
   "metadata": {
    "collapsed": true
   },
   "outputs": [],
   "source": []
  },
  {
   "cell_type": "code",
   "execution_count": null,
   "metadata": {
    "collapsed": true
   },
   "outputs": [],
   "source": []
  },
  {
   "cell_type": "code",
   "execution_count": null,
   "metadata": {
    "collapsed": false
   },
   "outputs": [],
   "source": [
    "rda = RDASolver(w_dim=X.shape[1], psi=regL1(1.0), aux=regL2(1.0), betas=IterSqrt())"
   ]
  },
  {
   "cell_type": "code",
   "execution_count": null,
   "metadata": {
    "collapsed": false
   },
   "outputs": [],
   "source": [
    "for i in range(10):\n",
    "    loss = lambda theta: logloss(theta, X[i], y[i])\n",
    "    subgrad = - y[i] * np.exp(- y[i] * rda.w.dot(X[i])) * X[i] / (1 + np.exp(- y[i] * rda.w.dot(X[i])))\n",
    "    rda.iterate(loss, subgrad)\n",
    "    print(rda.status())"
   ]
  },
  {
   "cell_type": "code",
   "execution_count": null,
   "metadata": {
    "collapsed": false
   },
   "outputs": [],
   "source": [
    "S = csr_matrix((1, 5))"
   ]
  },
  {
   "cell_type": "code",
   "execution_count": null,
   "metadata": {
    "collapsed": false
   },
   "outputs": [],
   "source": [
    "S[0, 4]"
   ]
  },
  {
   "cell_type": "code",
   "execution_count": null,
   "metadata": {
    "collapsed": true
   },
   "outputs": [],
   "source": [
    "r = iter(range(10))"
   ]
  },
  {
   "cell_type": "code",
   "execution_count": null,
   "metadata": {
    "collapsed": false
   },
   "outputs": [],
   "source": [
    "next(r)"
   ]
  },
  {
   "cell_type": "code",
   "execution_count": null,
   "metadata": {
    "collapsed": true
   },
   "outputs": [],
   "source": []
  }
 ],
 "metadata": {
  "anaconda-cloud": {},
  "kernelspec": {
   "display_name": "Python 3",
   "language": "python",
   "name": "python3"
  },
  "language_info": {
   "codemirror_mode": {
    "name": "ipython",
    "version": 3
   },
   "file_extension": ".py",
   "mimetype": "text/x-python",
   "name": "python",
   "nbconvert_exporter": "python",
   "pygments_lexer": "ipython3",
   "version": "3.5.2"
  }
 },
 "nbformat": 4,
 "nbformat_minor": 2
}
